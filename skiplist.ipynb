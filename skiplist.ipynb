import random
import math

class Node():
    def __init__(self,element):
        self.val,self.next,self.down=element,None,None
    
        
        
class LookUpSkipList():
    def __init__(self,inputList,p):
        self.head=Node("0")
        
        self.levels=int(math.log(len(inputList),2))
        self.p=p
        current=self.head
        current.next=None  
        for _ in range(self.levels-1):
            current.down=Node(0)
            current=current.down
            current.next=None
        for i in inputList:
            self.insert(i)
        
        
    def lookup_search(self,data):
        current=self.head
        while current:
            if current.val==data:
                return True
            else:
                if current.next.val<=data:
                    current=current.next
                    
                else:
                    current=current.down
        return False
                    
    def random_check(self):
        checkheads=[]
        tosslist=['H','T']
        count=0
        for i in range(0,10):
            toss=random.choices(tosslist)
            checkheads.append(toss) 
        count=checkheads.count(['H'])
        if count > self.p:
            return count
        return 0       
        
    def insert(self,data):
        probability_stack=[]
        current=self.head
        check_probability=0
        while current:
                if  current.next==None or data <=current.next.val :
                    probability_stack.append(current)
                    current=current.down
                else:
                    current=current.next          
        previous=None

        while(probability_stack):
            current=probability_stack.pop()
            new_node=Node(data)
            new_node.next=current.next
            current.next=new_node
            if previous:
                new_node.down=previous
                previous=new_node
            else:
                previous=new_node 
            check_probability=self.random_check()
            if (check_probability>=6):
                break
        
    
    def print(self):   
        current=self.head
        for i in range(self.levels-1,-1,-1):
            previous=current.next
            while previous:
                    print(previous.val,end=" > ")
                    previous=previous.next
            current=current.down
            print("Level",i)
        print()
            
    def delete(self,word):
        current=self.head
        while current:
            while current.next and current.next.val<word:
                current=current.next
            if current.next:
                if current.next.val==word:
                    current.next=current.next.next   
                if current.next.next ==None and current.next.val==word:
                    current.next=None
            current=current.down
        print("Deleted word",word,"updated Skiplist is:")
 


#Given Test Case
        
lu_sk_lists=LookUpSkipList(["iub","usa","there","sort","god"],0.6)


print("**********Initial SkipList**************")
lu_sk_lists.print()


print("**********SkipList After Insertion******")
lu_sk_lists.insert("word")
lu_sk_lists.print()

print("**********Delete SkipList***************")
lu_sk_lists.delete("there")
lu_sk_lists.print()
        

print("**********Lookup SkipList***************")
result=lu_sk_lists.lookup_search('iub')
print("Result of lookup:",result)
print()


print("**********Lookup SkipList***************")
result=lu_sk_lists.lookup_search("present")
print("Result of lookup:",result)
print()
lu_sk_lists.print()
